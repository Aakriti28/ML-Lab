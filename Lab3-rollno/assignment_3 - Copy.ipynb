{
 "cells": [
  {
   "cell_type": "markdown",
   "metadata": {
    "id": "9hRpsy5Zp8Lr"
   },
   "source": [
    "\n",
    "## <font color=red> You should not import any new libraries. Your code should run with python=3.x</font>\n",
    "## <font color=red> Please don't rename this .ipynb file.</font><br>\n",
    "- Your solutions will be auto-graded. Hence we request you to follow the instructions.\n",
    "- Modify the code only between \n",
    "```\n",
    "## TODO\n",
    "## END TODO\n",
    "```\n",
    "- In addition to above changes, you can play with arguments to the functions for generating plots\n",
    "- We will run the auto grading scripts with private test data"
   ]
  },
  {
   "cell_type": "code",
   "execution_count": 1,
   "metadata": {
    "id": "mBBZWQn3WjsN"
   },
   "outputs": [],
   "source": [
    "import numpy as np\n",
    "from matplotlib import pyplot as plt\n",
    "import math"
   ]
  },
  {
   "cell_type": "markdown",
   "metadata": {
    "id": "kxgQgosmYXRu"
   },
   "source": [
    "##LOAD DATA"
   ]
  },
  {
   "cell_type": "code",
   "execution_count": 2,
   "metadata": {
    "id": "TSk_qe4RXFYz"
   },
   "outputs": [],
   "source": [
    "X = np.load('./data/train_X.npy')\n",
    "Y = np.array([np.load('./data/train_y.npy')]).T"
   ]
  },
  {
   "cell_type": "markdown",
   "metadata": {
    "id": "-9j3in3odIle"
   },
   "source": [
    "Normalization / Standardization"
   ]
  },
  {
   "cell_type": "code",
   "execution_count": 3,
   "metadata": {
    "id": "iaYuScGvdEum"
   },
   "outputs": [],
   "source": [
    "def normalize(X):\n",
    "  \"\"\"\n",
    "  Implement Normalization for input image features\n",
    "\n",
    "  Args:\n",
    "  X : numpy array of shape (n_samples, 784)\n",
    "   \n",
    "  Returns:\n",
    "  X_norm : numpy array of shape (n_samples, 784) after normalization\n",
    "  \"\"\"\n",
    "  X_norm = None\n",
    "  \n",
    "  ## TODO\n",
    "  \n",
    "  std = np.std(X, axis=0)\n",
    "  std[std == 0] = 1\n",
    "  X_norm = (X - np.mean(X, axis=0))/(std)\n",
    "  \n",
    "  ## END TODO\n",
    "\n",
    "  assert X_norm.shape == X.shape\n",
    "\n",
    "  return X_norm\n",
    "\n",
    "def scaling(X):\n",
    "  \"\"\"\n",
    "  Implement MinMax Scaling on input image features\n",
    "\n",
    "  Args:\n",
    "  X : numpy array of shape (n_samples, 784)\n",
    "   \n",
    "  Returns:\n",
    "  X_scaled : numpy array of shape (n_samples, 784)\n",
    "  \"\"\"\n",
    "  X_scaled = None\n",
    "\n",
    "  ##TODO\n",
    "  diff = (np.max(X, axis=0) - np.min(X, axis=0))\n",
    "  diff[diff == 0] = 1\n",
    "  X_scaled = (X - np.min(X, axis=0)) / (diff)\n",
    "  \n",
    "  ##END TODO\n",
    "  \n",
    "  assert X_scaled.shape == X.shape\n",
    "\n",
    "  return X_scaled"
   ]
  },
  {
   "cell_type": "markdown",
   "metadata": {
    "id": "ejROq-52YUol"
   },
   "source": [
    "### Split data into train/val"
   ]
  },
  {
   "cell_type": "code",
   "execution_count": 4,
   "metadata": {
    "id": "l07sJgZ3XG-N"
   },
   "outputs": [],
   "source": [
    "def split_data(X, Y, train_ratio=0.8):\n",
    "    '''\n",
    "    Split data into train and validation sets\n",
    "    The first floor(train_ratio*n_sample) samples form the train set\n",
    "    and the remaining the test set\n",
    "\n",
    "    Args:\n",
    "    X - numpy array of shape (n_samples, n_features)\n",
    "    Y - numpy array of shape (n_samples, 1)\n",
    "    train_ratio - fraction of samples to be used as training data\n",
    "\n",
    "    Returns:\n",
    "    X_train, Y_train, X_val, Y_val\n",
    "    '''\n",
    "    # Try Normalization and scaling and store it in X_transformed\n",
    "    X_transformed = X\n",
    "\n",
    "    ## TODO\n",
    "    \n",
    "    X_transformed = scaling(normalize(X)) #normalize(scaling(X)) #\n",
    "    \n",
    "    ## END TODO\n",
    "\n",
    "    assert X_transformed.shape == X.shape\n",
    "\n",
    "    num_samples = len(X)\n",
    "    indices = np.arange(num_samples)\n",
    "    num_train_samples = math.floor(num_samples * train_ratio)\n",
    "    train_indices = np.random.choice(indices, num_train_samples, replace=False)\n",
    "    val_indices = list(set(indices) - set(train_indices))\n",
    "    X_train, Y_train, X_val, Y_val = X_transformed[train_indices], Y[train_indices], X_transformed[val_indices], Y[val_indices]\n",
    "  \n",
    "    return X_train, Y_train, X_val, Y_val"
   ]
  },
  {
   "cell_type": "markdown",
   "metadata": {
    "id": "ZT-b4s1Kb6eL"
   },
   "source": [
    "**Plotting image**"
   ]
  },
  {
   "cell_type": "code",
   "execution_count": 5,
   "metadata": {
    "id": "6jlAZLOtY73s"
   },
   "outputs": [],
   "source": [
    "def plot_image(x, y, idx):\n",
    "  \"\"\"\n",
    "  Plot the given feature vector into image of size 28 X 28 \n",
    "  note that originally the image was of size 28*28 which is flattened or unrolled\n",
    "  to 784 X 1 feature vector\n",
    "\n",
    "  Args:\n",
    "  x : numpy array of images\n",
    "  y : numpy array of ground truth labels for images\n",
    "  idx : index of the image\n",
    "  \"\"\"\n",
    "\n",
    "  image = np.reshape(x[idx], (28,28))\n",
    "  plt.imshow(image, interpolation='nearest')\n",
    "  plt.show()\n",
    "  print (f'The ground truth label for this iamge is : {y[idx]}')"
   ]
  },
  {
   "cell_type": "markdown",
   "metadata": {
    "id": "xkI57T5zdsci"
   },
   "source": [
    "Encode 1 for any one of the class and 0 to all other remaining class for all labels"
   ]
  },
  {
   "cell_type": "code",
   "execution_count": 6,
   "metadata": {
    "id": "XlRACMv1WggK"
   },
   "outputs": [],
   "source": [
    "def get_data_for_class(X,Y,id):\n",
    "  \"\"\"\n",
    "  Args:\n",
    "  X : numpy array of input features, shape - (n_samples x 784)\n",
    "  Y : numpy array of input targets, shape - (n_samples x 1)\n",
    "  id : class id (one of 1,4,7,9)\n",
    "\n",
    "  Returns:\n",
    "  class_X : numpy array of input features, shape - (n_samples x 784)\n",
    "  class_Y : numpy array of input targets, where class_Y[i]=1 if Y[i]=id else class_Y[i]=0, shape - (n_samples x 784)\n",
    "  \"\"\"\n",
    "  class_X, class_Y = None, None\n",
    "\n",
    "  ##TODO\n",
    "  class_X = X\n",
    "  class_Y = np.array(Y == id, dtype=float)\n",
    "  \n",
    "  ##END TODO\n",
    "\n",
    "  assert class_X.shape == X.shape and class_Y.shape == Y.shape\n",
    "\n",
    "  return class_X, class_Y"
   ]
  },
  {
   "cell_type": "markdown",
   "metadata": {
    "id": "YFhZGe-2djbu"
   },
   "source": [
    "Random Sampling"
   ]
  },
  {
   "cell_type": "code",
   "execution_count": 7,
   "metadata": {
    "id": "CKCNwUdgdi91"
   },
   "outputs": [],
   "source": [
    "def sample_training_points(X, y, sample_size):\n",
    "  \"\"\"\n",
    "  Takes input features, targets and sample size, and returns random sample of size = sample_size\n",
    "\n",
    "  Args: \n",
    "  X : numpy array of shape (n_samples , n_features)\n",
    "  y : numpy array of shape (n_samples , 1)\n",
    "  \n",
    "  Returns: \n",
    "  sampled_X : numpy array of shape (sample_size , n_eatures)\n",
    "  sampled_y : numpy array of shape (sample_size , 1)\n",
    "\n",
    "  \"\"\"\n",
    "  sampled_X , sampled_y = None, None\n",
    "  \n",
    "  ##TODO\n",
    "    \n",
    "  num_samples = len(X)\n",
    "  indices = np.arange(num_samples)\n",
    "  select_indices = np.random.choice(indices, sample_size, replace=False)\n",
    "  sampled_X, sampled_y = X[select_indices], y[select_indices]\n",
    "#   print(select_indices)\n",
    "  \n",
    "  \n",
    "  ##END TODO\n",
    "\n",
    "  assert sampled_X.shape==(sample_size,X.shape[1]) and sampled_y.shape==(sample_size,1)\n",
    "  \n",
    "  return sampled_X, sampled_y"
   ]
  },
  {
   "cell_type": "markdown",
   "metadata": {
    "id": "lE4aGEKSf_mo"
   },
   "source": [
    "LOGISTIC REGRESSION CLASSIFIER"
   ]
  },
  {
   "cell_type": "code",
   "execution_count": 8,
   "metadata": {
    "id": "MmQHu4nYgksD"
   },
   "outputs": [],
   "source": [
    "def sigmoid(weights, bias, X):\n",
    "  \"\"\"\n",
    "  Implement logistic/ sigmoid function\n",
    "\n",
    "  Args:\n",
    "  weights : numpy array of shape (n_dimension , 1)\n",
    "  bias : scaler\n",
    "  X : numpy array of shape (n_samples , n_dimension)\n",
    "\n",
    "  Returns: \n",
    "  Y_sigmoid : numpy array of shape (n_samples, 1)\n",
    "  \"\"\"\n",
    "  Y_sigmoid = None\n",
    "\n",
    "  ##TODO\n",
    "\n",
    "  Y = np.dot(X, weights) + bias\n",
    "#   print(\"debug y\", Y)\n",
    "    \n",
    "  Y_sigmoid = 1.0/(1.0 + np.exp(-Y))\n",
    "#   print(\"Debug sigmoid\", Y_sigmoid)\n",
    "  \n",
    "  ##END TODO\n",
    "  assert Y_sigmoid.shape == (X.shape[0],1)\n",
    "\n",
    "  return Y_sigmoid\n",
    "\n",
    "\n",
    "def cross_entropy_loss(weights, bias, X, y):\n",
    "  \"\"\"\n",
    "  Takes input features, weights, bias and target \n",
    "  and calculates binary cross entropy loss between y and predicted values of y.\n",
    "\n",
    "  Args:\n",
    "  weights : numpy array of shape (n_features, 1)\n",
    "  bias : scalar\n",
    "  X : numpy array of shape (n_samples, 1)\n",
    "  y : numpy array of shape (n_samples, 1)\n",
    "  \n",
    "  Returns :\n",
    "  loss : single float value\n",
    "  \"\"\"\n",
    "  loss = 0.0\n",
    "\n",
    "  ##TODO\n",
    "\n",
    "  y_pred = sigmoid (weights, bias, X)\n",
    "  loss = - (np.dot(y.T, np.log(y_pred+0.00001)) + np.dot((1-y).T, np.log(1-y_pred+0.00001)))/len(y)\n",
    "  loss = loss.squeeze()    \n",
    "  \n",
    "  ##END TODO\n",
    "  \n",
    "  return loss\n",
    "  \n",
    "def grad(X, y, weights, bias):\n",
    "\n",
    "  \"\"\"\n",
    "  Return gradient for weights and biases\n",
    "\n",
    "  Args:\n",
    "  X : numpy array of shape (n_samples , n_dimension)\n",
    "  y : numpy array of shape (n_samples , 1)\n",
    "  weights : numpy array of shape (n_dimension , 1)\n",
    "  bias : scalar\n",
    "\n",
    "  Returns: \n",
    "  gradient : [dw , db]\n",
    "              dw - numpy array of shape (n_dimension , 1)\n",
    "              db - numpy array of shape (1)\n",
    "  \"\"\"\n",
    "\n",
    "  dw , db = None , None\n",
    "\n",
    "  ##TODO\n",
    "   \n",
    "  y_pred = sigmoid(weights, bias, X)\n",
    "  dw = (np.dot(X.T, y_pred - y))/len(y)\n",
    "  db = np.mean(y_pred - y).squeeze()\n",
    "#   n_samples = X.shape[0]\n",
    "#   n_dimension = X.shape[1]\n",
    "#   X_e = np.c_[X,np.ones(n_samples)]\n",
    "#   gradval = -1 * np.mean((y - sigmoid(weights, bias, X)) * X_e, axis=0)\n",
    "#   dw = gradval[:n_dimension].reshape(n_dimension, 1)\n",
    "#   db = gradval[n_dimension].reshape(1,)\n",
    "#   dw_b = np.dot(X_train.T, (y_pred - y))/len(y)\n",
    "    \n",
    "#   dw = dw_b[:-1]\n",
    "#   db = dw_b[-1]\n",
    "#   print(\"Debug grads\", dw, db)\n",
    "  \n",
    "  ##END TODO\n",
    "\n",
    "  assert dw.shape == weights.shape \n",
    "\n",
    "  gradient = [dw , db]\n",
    "\n",
    "  return gradient\n",
    "\n",
    "def logistic_regression(X, y, epoch, lr, sample_size):\n",
    "  \"\"\"\n",
    "  Args :\n",
    "\n",
    "  X : numpy array of inpuy features of shape (n_samples, n_features)\n",
    "  y : numpy array of targets of shape (n_samples, 1)\n",
    "  epochs : number of iterations of training\n",
    "  lr : learning_rate\n",
    "  sample_size : batch_size for each iteration\n",
    "\n",
    "  Returns : \n",
    "  loss : list containg loss for each epoch\n",
    "  weights : numpy array of shape (n_features, 1)\n",
    "  bias :  scaler\n",
    "  \"\"\"\n",
    "\n",
    "  loss, weights, bias = [], None, 0\n",
    "  #define weights and bias (w, b) initialize the weight\n",
    "\n",
    "  ##TODO\n",
    "    \n",
    "  weights = np.zeros((X.shape[1], 1))\n",
    "  bias = 0\n",
    "\n",
    "  for ep in range(epoch):\n",
    "    X_b, y_b = sample_training_points(X, y, sample_size)\n",
    "    dw, db = grad(X_b, y_b, weights, bias)\n",
    "    weights -= lr*dw\n",
    "    bias -= lr*db\n",
    "    loss += [cross_entropy_loss(weights, bias, X, y)]\n",
    "    \n",
    "  \n",
    "  ##TODO\n",
    "  assert len(loss) == epoch and weights.shape == (X.shape[1],1)\n",
    "\n",
    "  return [loss, weights, bias]\n",
    "\n",
    "def train_multi_class(X, Y):\n",
    "  \"\"\"\n",
    "  make multi class classifier using binary classification (1 vs all)\n",
    "\n",
    "  Args:\n",
    "  X : numpy array of input features of shape (n_samples, n_features)\n",
    "  Y : numpy array of input features of shape (n_samples, 1)\n",
    "\n",
    "  Returns:\n",
    "\n",
    "  param_list : list of param for all classifiers, where param = [weights, bias]\n",
    "  loss_list : list of lists of losses of all classifiers for all epochs\n",
    "  \"\"\"\n",
    "\n",
    "  digits = [1,4,7,9]\n",
    "  param_list = []\n",
    "  loss_list = []\n",
    "\n",
    "\n",
    "  #train i vs all weights and bias, where i in {1,4,7,9}\n",
    "  epochs , lr , sample_size = 500, 0.01, 120\n",
    "\n",
    "  for i in digits:\n",
    "    X_train, Y_train = get_data_for_class(X, Y, id=i)\n",
    "    output = logistic_regression(X_train, Y_train, epochs, lr, sample_size)\n",
    "    param_list.append(output[1:]) \n",
    "    loss_list.append(output[0])   \n",
    "\n",
    "  return param_list, loss_list"
   ]
  },
  {
   "cell_type": "code",
   "execution_count": 9,
   "metadata": {
    "id": "w96QeoELvelA"
   },
   "outputs": [],
   "source": [
    "def to_class(predicts):\n",
    "  \"\"\"\n",
    "  Args: \n",
    "  predicts : numpy array of shape (n_samples, 4)\n",
    "  \n",
    "  Return:\n",
    "  predicted classes : numpy array of shape(num_samples, class_id), where class_id in {1,4,7,9}\n",
    "  \n",
    "  \"\"\"\n",
    "  labels = {0:1, 1:4, 2:7, 3:9}\n",
    "  predicted_class = []\n",
    "  for i in range(predicts.shape[0]):\n",
    "    label = np.argmax(predicts[i])\n",
    "    predicted_class.append(labels[label])\n",
    "\n",
    "  return np.array(predicted_class).reshape(len(predicted_class),1)\n",
    "\n",
    "def prediction(param, X):\n",
    "  \"\"\"\n",
    "  It return the array of predicted class for all samples in X                                    \n",
    "\n",
    "  Args: \n",
    "  param[0] = [w,b] of class 1 vs all\n",
    "  param[1] = [w,b] of class 4 vs all\n",
    "  param[2] = [w,b] of class 7 vs all\n",
    "  param[3] = [w,b] of class 9 vs all\n",
    "\n",
    "  X = numpy array of input features, shape (n_samples , 784)\n",
    "\n",
    "  Returns:\n",
    "  predicts = numpy array for shape (n_samples , 4), \n",
    "             where predicts[i][j] is probablity that sample i belongs to class j when using classifer j vs all\n",
    "\n",
    "  \"\"\"\n",
    "\n",
    "  predicts = None\n",
    "\n",
    "  ##TODO\n",
    "\n",
    "  predicts = np.zeros((X.shape[0], len(param)))\n",
    "  for i in range(len(param)):\n",
    "    print(param[i][0].shape, param[i][1])\n",
    "    predicts[:, i] = sigmoid(param[i][0], param[i][1], X).squeeze()\n",
    "  \n",
    "  ##END TODO\n",
    "  assert predicts.shape == (X.shape[0],4)\n",
    "\n",
    "  return predicts\n"
   ]
  },
  {
   "cell_type": "code",
   "execution_count": 10,
   "metadata": {
    "id": "2om8E02u579X"
   },
   "outputs": [],
   "source": [
    "def accuracy(Y_pred, Y_true):\n",
    "\n",
    "  '''\n",
    "  This functions calculates accuracy for -\n",
    "    1) each of the 4 class \n",
    "    2) whole dataset\n",
    "    Note : Do not report in percentage\n",
    "\n",
    "  Args:\n",
    "  Y_pred : Predicted class labels, numpy array of shape (n_samples , 1)\n",
    "  Y_true : True/Actual class labels, numpy array of shape (n_samples , 1)\n",
    "\n",
    "  Returns:\n",
    "  list of length 5, 1 st value is overall accuracy followed by accuracy of all 4 individual classifies\n",
    "  '''\n",
    "  \n",
    "  total_accuracy = np.sum(Y_pred==Y_true)/Y_true.shape[0]\n",
    "  accuracy_1 , accuracy_4 , accuracy_7 , accuracy_9 = 0, 0, 0, 0\n",
    "  #TODO\n",
    "#   print(type(Y_true[0,0]))\n",
    "  Y_true_1 = np.array(Y_true==1, dtype=int)\n",
    "  Y_true_4 = np.array(Y_true==4, dtype=int)\n",
    "  Y_true_7 = np.array(Y_true==7, dtype=int)\n",
    "  Y_true_9 = np.array(Y_true==9, dtype=int)\n",
    "\n",
    "  Y_pred_1 = np.array(Y_pred==1, dtype=int)\n",
    "  Y_pred_4 = np.array(Y_pred==4, dtype=int)\n",
    "  Y_pred_7 = np.array(Y_pred==7, dtype=int)\n",
    "  Y_pred_9 = np.array(Y_pred==9, dtype=int)\n",
    "\n",
    "  accuracy_1 = np.sum(Y_pred_1==Y_true_1)/Y_true.shape[0]\n",
    "  accuracy_4 = np.sum(Y_pred_4==Y_true_4)/Y_true.shape[0]\n",
    "  accuracy_7 = np.sum(Y_pred_7==Y_true_7)/Y_true.shape[0]\n",
    "  accuracy_9 = np.sum(Y_pred_9==Y_true_9)/Y_true.shape[0]\n",
    "  \n",
    "  ##END TO\n",
    "\n",
    "  print(\"Total Accuray : \", total_accuracy) \n",
    "  print(\"Accuray class 1 : \", accuracy_1) \n",
    "  print(\"Accuray class 4 : \", accuracy_4) \n",
    "  print(\"Accuray class 7 : \", accuracy_7) \n",
    "  print(\"Accuray class 9 : \", accuracy_9) \n",
    "\n",
    "  return [total_accuracy, accuracy_1, accuracy_4, accuracy_7, accuracy_9]"
   ]
  },
  {
   "cell_type": "code",
   "execution_count": 11,
   "metadata": {
    "id": "sl9_jRs0bsU5"
   },
   "outputs": [],
   "source": [
    "def calculate_metrics(Y_pred, Y_true):\n",
    "\n",
    "  '''\n",
    "  This functions calculates precision, recall and f1-score for -\n",
    "    1) each of the 4 class \n",
    "    2) whole dataset\n",
    "    Note : Do not report in percentage\n",
    "\n",
    "  Args:\n",
    "  Y_pred : Predicted class labels, numpy array of shape (n_samples , 1)\n",
    "  Y_true : True/Actual class labels, numpy array of shape (n_samples , 1)\n",
    "\n",
    "  Returns:\n",
    "  (precision , recall , f1_score) : a tuple of 3 lists i.e. precison, recall and f1_score where\n",
    "          precision : list of length 5, 1 st value is overall precison followed by precision of all 4 individual classes\n",
    "          recall : list of length 5, 1 st value is overall recall followed by recall of all 4 individual classes\n",
    "          f1_score : list of length 5, 1 st value is overall f1-score followed by f1-score of all 4 individual classes\n",
    "  '''\n",
    "\n",
    "  precision , recall , f1_score = [], [] ,[]\n",
    "\n",
    "  ## TODO\n",
    "  N = Y_pred.shape[0]\n",
    "  precision.append(0)\n",
    "  recall.append(0)\n",
    "  f1_score.append(0)\n",
    "  digits = [1,4,7,9]\n",
    "\n",
    "  n_samples = len(Y_true)\n",
    "  classes = [1, 4, 7, 9]\n",
    "  y_class = np.zeros((n_samples, 4))\n",
    "  y_pc = np.zeros((n_samples, 4))\n",
    "  for digit in classes:\n",
    "    \n",
    "    I = Y_true == digit\n",
    "    positives = np.sum(Y_pred == digit)\n",
    "    TP = np.sum(Y_pred[I] == digit)\n",
    "    FP = positives - TP\n",
    "    FN = np.sum(I) - TP\n",
    "      \n",
    "    precision_ = TP/(TP+FN)\n",
    "    recall_    = TP/(TP+FP)\n",
    "    f1_score_  = (2*precision_*recall_)/(precision_ + recall_)\n",
    "      \n",
    "    precision.append(precision_)\n",
    "    recall.append(recall_)\n",
    "    f1_score.append(f1_score_)\n",
    "      \n",
    "    precision[0] += precision_*np.sum(I)\n",
    "    recall[0]    += recall_*np.sum(I)\n",
    "    f1_score[0]  += f1_score_*np.sum(I)\n",
    "  \n",
    "  precision[0] /= N\n",
    "  recall[0]    /= N\n",
    "  f1_score[0]  /= N\n",
    "    \n",
    "    \n",
    "\n",
    "  ## END TODO\n",
    "\n",
    "  assert len(precision)==5 and len(recall)==5 and len(f1_score)==5\n",
    "\n",
    "  return (precision, recall, f1_score)"
   ]
  },
  {
   "cell_type": "code",
   "execution_count": 12,
   "metadata": {
    "id": "q82oEeRF-guz"
   },
   "outputs": [],
   "source": [
    "def plot_training_loss(loss_list):\n",
    "  labels = [\"1\", \"4\", \"7\", \"9\"]\n",
    "  for ids, loss in enumerate(loss_list):\n",
    "    plt.plot(loss, label = labels[ids])\n",
    "  plt.legend(loc='best')\n",
    "  plt.title('Training Loss of each class (1 vs all)')\n",
    "  plt.show()"
   ]
  },
  {
   "cell_type": "code",
   "execution_count": 13,
   "metadata": {
    "id": "nyVYAPhtm_At"
   },
   "outputs": [],
   "source": [
    "X_train, Y_train, X_val, Y_val = split_data(X,Y)\n",
    "param_lists, loss_list = train_multi_class(X_train, Y_train)"
   ]
  },
  {
   "cell_type": "markdown",
   "metadata": {
    "id": "c9kL6ByDgZyI"
   },
   "source": [
    "## Plot curve for loss"
   ]
  },
  {
   "cell_type": "code",
   "execution_count": 14,
   "metadata": {
    "id": "PC3lGdUy-jek",
    "scrolled": true
   },
   "outputs": [
    {
     "data": {
      "image/png": "[encoded data removed]",
      "text/plain": [
       "<Figure size 432x288 with 1 Axes>"
      ]
     },
     "metadata": {
      "needs_background": "light"
     },
     "output_type": "display_data"
    }
   ],
   "source": [
    "plot_training_loss(loss_list)"
   ]
  },
  {
   "cell_type": "markdown",
   "metadata": {
    "id": "UVkva3PIgcsu"
   },
   "source": [
    "## Calculate accuracy, precision , recall and F1-score"
   ]
  },
  {
   "cell_type": "code",
   "execution_count": 15,
   "metadata": {
    "id": "XNTZuQF8nDTD"
   },
   "outputs": [
    {
     "name": "stdout",
     "output_type": "stream",
     "text": [
      "(784, 1) -0.014828130698383865\n",
      "(784, 1) -0.0902643010909668\n",
      "(784, 1) -0.10749926386665747\n",
      "(784, 1) -0.20397416364735646\n"
     ]
    }
   ],
   "source": [
    "Y_pred = to_class( prediction(param_lists, X_val) )"
   ]
  },
  {
   "cell_type": "code",
   "execution_count": 16,
   "metadata": {
    "id": "slH97B8L0iHR"
   },
   "outputs": [
    {
     "name": "stdout",
     "output_type": "stream",
     "text": [
      "Total Accuray :  0.93\n",
      "Accuray class 1 :  0.975\n",
      "Accuray class 4 :  0.9675\n",
      "Accuray class 7 :  0.9625\n",
      "Accuray class 9 :  0.955\n"
     ]
    },
    {
     "data": {
      "text/plain": [
       "[0.93, 0.975, 0.9675, 0.9625, 0.955]"
      ]
     },
     "execution_count": 16,
     "metadata": {},
     "output_type": "execute_result"
    }
   ],
   "source": [
    "accuracy(Y_pred, Y_val)"
   ]
  },
  {
   "cell_type": "code",
   "execution_count": 17,
   "metadata": {
    "id": "NLSImjxiweiV"
   },
   "outputs": [],
   "source": [
    "precision, recall, f1_score = calculate_metrics(Y_pred, Y_val)"
   ]
  },
  {
   "cell_type": "code",
   "execution_count": 18,
   "metadata": {},
   "outputs": [],
   "source": [
    "data = [precision, recall, f1_score]"
   ]
  },
  {
   "cell_type": "code",
   "execution_count": 19,
   "metadata": {},
   "outputs": [],
   "source": [
    "import pandas as pd\n",
    "df = pd.DataFrame(data, index = ['Precision', 'Recall', 'F1-score'], columns = ['Total', 'class 1', 'class 4', 'class 7', 'class 9'])"
   ]
  },
  {
   "cell_type": "code",
   "execution_count": 20,
   "metadata": {},
   "outputs": [
    {
     "data": {
      "text/html": [
       "<div>\n",
       "<style scoped>\n",
       "    .dataframe tbody tr th:only-of-type {\n",
       "        vertical-align: middle;\n",
       "    }\n",
       "\n",
       "    .dataframe tbody tr th {\n",
       "        vertical-align: top;\n",
       "    }\n",
       "\n",
       "    .dataframe thead th {\n",
       "        text-align: right;\n",
       "    }\n",
       "</style>\n",
       "<table border=\"1\" class=\"dataframe\">\n",
       "  <thead>\n",
       "    <tr style=\"text-align: right;\">\n",
       "      <th></th>\n",
       "      <th>Total</th>\n",
       "      <th>class 1</th>\n",
       "      <th>class 4</th>\n",
       "      <th>class 7</th>\n",
       "      <th>class 9</th>\n",
       "    </tr>\n",
       "  </thead>\n",
       "  <tbody>\n",
       "    <tr>\n",
       "      <th>Precision</th>\n",
       "      <td>0.930000</td>\n",
       "      <td>1.00000</td>\n",
       "      <td>0.920000</td>\n",
       "      <td>0.924370</td>\n",
       "      <td>0.862500</td>\n",
       "    </tr>\n",
       "    <tr>\n",
       "      <th>Recall</th>\n",
       "      <td>0.930557</td>\n",
       "      <td>0.90991</td>\n",
       "      <td>0.948454</td>\n",
       "      <td>0.948276</td>\n",
       "      <td>0.907895</td>\n",
       "    </tr>\n",
       "    <tr>\n",
       "      <th>F1-score</th>\n",
       "      <td>0.929526</td>\n",
       "      <td>0.95283</td>\n",
       "      <td>0.934010</td>\n",
       "      <td>0.936170</td>\n",
       "      <td>0.884615</td>\n",
       "    </tr>\n",
       "  </tbody>\n",
       "</table>\n",
       "</div>"
      ],
      "text/plain": [
       "              Total  class 1   class 4   class 7   class 9\n",
       "Precision  0.930000  1.00000  0.920000  0.924370  0.862500\n",
       "Recall     0.930557  0.90991  0.948454  0.948276  0.907895\n",
       "F1-score   0.929526  0.95283  0.934010  0.936170  0.884615"
      ]
     },
     "execution_count": 20,
     "metadata": {},
     "output_type": "execute_result"
    }
   ],
   "source": [
    "df"
   ]
  },
  {
   "cell_type": "code",
   "execution_count": 26,
   "metadata": {},
   "outputs": [
    {
     "name": "stdout",
     "output_type": "stream",
     "text": [
      "Total Accuray :  0.2525\n",
      "Accuray class 1 :  0.2525\n",
      "Accuray class 4 :  0.75\n",
      "Accuray class 7 :  0.7025\n",
      "Accuray class 9 :  0.8\n"
     ]
    },
    {
     "data": {
      "text/plain": [
       "[0.2525, 0.2525, 0.75, 0.7025, 0.8]"
      ]
     },
     "execution_count": 26,
     "metadata": {},
     "output_type": "execute_result"
    }
   ],
   "source": [
    "y_m = np.ones(Y_val.shape)\n",
    "accuracy(y_m, Y_val)\n"
   ]
  },
  {
   "cell_type": "code",
   "execution_count": 27,
   "metadata": {},
   "outputs": [
    {
     "name": "stdout",
     "output_type": "stream",
     "text": [
      "Precision for 1-digit model : \t 0.2525\n",
      "Recall for 1-digit model : \t 0.81125625\n",
      "F1 Score for 1-digit model : \t 0.10180638722554891\n"
     ]
    }
   ],
   "source": [
    "def overall_metrics(Y_pred, Y_true):\n",
    "\n",
    "\n",
    "  '''\n",
    "  This functions calculates the overall precision, recall and f1-score\n",
    "\n",
    "  Args:\n",
    "  Y_pred : Predicted class labels, numpy array of shape (n_samples , 1)\n",
    "  Y_true : True/Actual class labels, numpy array of shape (n_samples , 1)\n",
    "\n",
    "  Returns:\n",
    "  The overall precision, recall and f1-score\n",
    "  '''\n",
    "\n",
    "  precision , recall , f1_score = [], [] ,[]\n",
    "\n",
    "  ## TODO\n",
    "\n",
    "  N = Y_pred.shape[0]\n",
    "  precision.append(0)\n",
    "  recall.append(0)\n",
    "  f1_score.append(0)\n",
    "  digits = [1,4,7,9]\n",
    "  \n",
    "  for digit in digits:\n",
    "      \n",
    "      I = Y_true == digit\n",
    "      positives = np.sum(Y_pred == digit)\n",
    "      TP = np.sum(Y_pred[I] == digit)\n",
    "      FP = positives - TP\n",
    "      FN = np.sum(I) - TP\n",
    "      \n",
    "      if ((TP+FN) > 0): \n",
    "          precision_ = TP/(TP+FN)\n",
    "      else:\n",
    "          precision_ = 1\n",
    "      if ((TP+FP) > 0):\n",
    "          recall_    = TP/(TP+FP)\n",
    "      else:\n",
    "          recall_    = 1\n",
    "      f1_score_  = (2*precision_*recall_)/(precision_ + recall_)\n",
    "      \n",
    "      precision.append(precision_)\n",
    "      recall.append(recall_)\n",
    "      f1_score.append(f1_score_)\n",
    "      \n",
    "      precision[0] += precision_*np.sum(I)\n",
    "      recall[0]    += recall_*np.sum(I)\n",
    "      f1_score[0]  += f1_score_*np.sum(I)\n",
    "  \n",
    "  precision[0] /= N\n",
    "  recall[0]    /= N\n",
    "  f1_score[0]  /= N\n",
    "    \n",
    "  return precision[0], recall[0], f1_score[0]\n",
    "\n",
    "N = Y_val.shape[0]\n",
    "Y_pred = np.ones((N,1))\n",
    "p, r, f = overall_metrics(y_m, Y_val)\n",
    "print(\"Precision for 1-digit model : \\t\", p)\n",
    "print(\"Recall for 1-digit model : \\t\", r)\n",
    "print(\"F1 Score for 1-digit model : \\t\", f)"
   ]
  },
  {
   "cell_type": "code",
   "execution_count": 28,
   "metadata": {},
   "outputs": [
    {
     "name": "stderr",
     "output_type": "stream",
     "text": [
      "c:\\users\\aakri\\appdata\\local\\programs\\python\\python37\\lib\\site-packages\\ipykernel_launcher.py:42: RuntimeWarning: invalid value encountered in long_scalars\n"
     ]
    },
    {
     "data": {
      "text/html": [
       "<div>\n",
       "<style scoped>\n",
       "    .dataframe tbody tr th:only-of-type {\n",
       "        vertical-align: middle;\n",
       "    }\n",
       "\n",
       "    .dataframe tbody tr th {\n",
       "        vertical-align: top;\n",
       "    }\n",
       "\n",
       "    .dataframe thead th {\n",
       "        text-align: right;\n",
       "    }\n",
       "</style>\n",
       "<table border=\"1\" class=\"dataframe\">\n",
       "  <thead>\n",
       "    <tr style=\"text-align: right;\">\n",
       "      <th></th>\n",
       "      <th>Total</th>\n",
       "      <th>class 1</th>\n",
       "      <th>class 4</th>\n",
       "      <th>class 7</th>\n",
       "      <th>class 9</th>\n",
       "    </tr>\n",
       "  </thead>\n",
       "  <tbody>\n",
       "    <tr>\n",
       "      <th>Precision</th>\n",
       "      <td>0.2525</td>\n",
       "      <td>1.000000</td>\n",
       "      <td>0.0</td>\n",
       "      <td>0.0</td>\n",
       "      <td>0.0</td>\n",
       "    </tr>\n",
       "    <tr>\n",
       "      <th>Recall</th>\n",
       "      <td>NaN</td>\n",
       "      <td>0.252500</td>\n",
       "      <td>NaN</td>\n",
       "      <td>NaN</td>\n",
       "      <td>NaN</td>\n",
       "    </tr>\n",
       "    <tr>\n",
       "      <th>F1-score</th>\n",
       "      <td>NaN</td>\n",
       "      <td>0.403194</td>\n",
       "      <td>NaN</td>\n",
       "      <td>NaN</td>\n",
       "      <td>NaN</td>\n",
       "    </tr>\n",
       "  </tbody>\n",
       "</table>\n",
       "</div>"
      ],
      "text/plain": [
       "            Total   class 1  class 4  class 7  class 9\n",
       "Precision  0.2525  1.000000      0.0      0.0      0.0\n",
       "Recall        NaN  0.252500      NaN      NaN      NaN\n",
       "F1-score      NaN  0.403194      NaN      NaN      NaN"
      ]
     },
     "execution_count": 28,
     "metadata": {},
     "output_type": "execute_result"
    }
   ],
   "source": [
    "precision, recall, f1_score = calculate_metrics(y_m, Y_val)\n",
    "datam = [precision, recall, f1_score]\n",
    "dfm = pd.DataFrame(datam, index = ['Precision', 'Recall', 'F1-score'], columns = ['Total', 'class 1', 'class 4', 'class 7', 'class 9'])\n",
    "\n",
    "dfm"
   ]
  },
  {
   "cell_type": "code",
   "execution_count": 29,
   "metadata": {},
   "outputs": [
    {
     "name": "stdout",
     "output_type": "stream",
     "text": [
      "101\n",
      "100\n",
      "119\n",
      "80\n"
     ]
    }
   ],
   "source": [
    "print(np.sum(Y_val == 1))\n",
    "print(np.sum(Y_val == 4))\n",
    "print(np.sum(Y_val == 7))\n",
    "print(np.sum(Y_val == 9))"
   ]
  },
  {
   "cell_type": "code",
   "execution_count": null,
   "metadata": {},
   "outputs": [],
   "source": []
  }
 ],
 "metadata": {
  "colab": {
   "collapsed_sections": [],
   "name": "assignment_3.ipynb",
   "provenance": []
  },
  "kernelspec": {
   "display_name": "Python 3",
   "language": "python",
   "name": "python3"
  },
  "language_info": {
   "codemirror_mode": {
    "name": "ipython",
    "version": 3
   },
   "file_extension": ".py",
   "mimetype": "text/x-python",
   "name": "python",
   "nbconvert_exporter": "python",
   "pygments_lexer": "ipython3",
   "version": "3.7.8"
  }
 },
 "nbformat": 4,
 "nbformat_minor": 1
}
