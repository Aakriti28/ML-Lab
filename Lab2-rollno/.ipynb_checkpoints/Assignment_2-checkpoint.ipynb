{
 "cells": [
  {
   "cell_type": "markdown",
   "metadata": {
    "id": "GW18MExyoByK"
   },
   "source": [
    "## <font color=red> You should not import any new libraries. Your code should run with python=3.x</font>\n",
    "## <font color=red> Please don't rename this .ipynb file.</font><br>\n",
    "- Your solutions will be auto-graded. Hence we request you to follow the instructions.\n",
    "- Modify the code only between \n",
    "```\n",
    "## TODO\n",
    "## END TODO\n",
    "```\n",
    "- In addition to above changes, you can play with arguments to the functions for generating plots\n",
    "- We will run the auto grading scripts with private test data"
   ]
  },
  {
   "cell_type": "code",
   "execution_count": 1,
   "metadata": {
    "id": "aCSR1aBfmVPu"
   },
   "outputs": [
    {
     "name": "stderr",
     "output_type": "stream",
     "text": [
      "c:\\users\\aakri\\appdata\\local\\programs\\python\\python37\\lib\\site-packages\\numpy\\_distributor_init.py:32: UserWarning: loaded more than 1 DLL from .libs:\n",
      "c:\\users\\aakri\\appdata\\local\\programs\\python\\python37\\lib\\site-packages\\numpy\\.libs\\libopenblas.JPIJNSWNNAN3CE6LLI5FWSPHUT2VXMTH.gfortran-win_amd64.dll\n",
      "c:\\users\\aakri\\appdata\\local\\programs\\python\\python37\\lib\\site-packages\\numpy\\.libs\\libopenblas.NOIJJG62EMASZI6NYURL6JBKM4EVBGM7.gfortran-win_amd64.dll\n",
      "c:\\users\\aakri\\appdata\\local\\programs\\python\\python37\\lib\\site-packages\\numpy\\.libs\\libopenblas.PYQHXLVVQ7VESDPUVUADXEVJOBGHJPAY.gfortran-win_amd64.dll\n",
      "  stacklevel=1)\n"
     ]
    }
   ],
   "source": [
    "import math\n",
    "import numpy as np\n",
    "import matplotlib.pyplot as plt\n",
    "import pandas as pd\n",
    "from sklearn import preprocessing\n",
    "from scipy import linalg"
   ]
  },
  {
   "cell_type": "markdown",
   "metadata": {
    "id": "g7zKGgQgoPnA"
   },
   "source": [
    "## Please make sure that your code works with loading data from relative path only\n",
    "\n",
    "i.e. ```pd.read_csv('./data/multi_var_lasso.csv')``` should not throw an error when we run the auto-grading scripts"
   ]
  },
  {
   "cell_type": "code",
   "execution_count": 2,
   "metadata": {
    "id": "xU2CdrwCoQQv"
   },
   "outputs": [],
   "source": [
    "data_multi = pd.read_csv('./data/multi_var_lasso.csv')\n",
    "cols = [f\"x_gt_{idx}\" for idx in range(1, 6)]\n",
    "X_multi = np.array(data_multi[cols])\n",
    "Y_multi = np.array(data_multi['y_gt'])"
   ]
  },
  {
   "cell_type": "code",
   "execution_count": 3,
   "metadata": {
    "id": "j_YZg7Z7g3fl"
   },
   "outputs": [],
   "source": [
    "data_multi_class = pd.read_csv('./data/3_class_perceptron.csv')\n",
    "cols = [f\"x_gt_{idx}\" for idx in range(1, 3)]\n",
    "X_multi_class = np.array(data_multi_class[cols])\n",
    "Y_multi_class = np.array(data_multi_class['y_gt'])"
   ]
  },
  {
   "cell_type": "code",
   "execution_count": 4,
   "metadata": {
    "id": "0DaZIrqza4oc"
   },
   "outputs": [],
   "source": [
    "def mse_multi_var(X, Y, w, b):\n",
    "    '''\n",
    "    Compute mean squared error between predictions and true y values\n",
    "\n",
    "    Args:\n",
    "    X - numpy array of shape (n_samples, 1)\n",
    "    Y - numpy array of shape (n_samples, 1)\n",
    "    w - a float\n",
    "    b - a float\n",
    "    '''\n",
    "\n",
    "    ## TODO\n",
    "    \n",
    "    y_pred = np.dot(X, w) + b\n",
    "    mse = np.mean(np.square(y_pred - Y))\n",
    "    \n",
    "    ## END TODO\n",
    "\n",
    "    return mse"
   ]
  },
  {
   "cell_type": "code",
   "execution_count": 5,
   "metadata": {
    "id": "B6AFlQQWoxSh"
   },
   "outputs": [],
   "source": [
    "def mse_regularized(X, Y, w, b, lamda):\n",
    "    '''\n",
    "    Compute mean squared error between predictions and true y values\n",
    "\n",
    "    Args:\n",
    "    X - numpy array of shape (n_samples, 1)\n",
    "    Y - numpy array of shape (n_samples, 1)\n",
    "    w - a float\n",
    "    b - a float\n",
    "    '''\n",
    "    ## TODO\n",
    "    \n",
    "    n_samples = len(Y)\n",
    "    y_pred = np.dot(X, w) + b\n",
    "    mse = np.mean(np.square(y_pred - Y)) + lamda*np.sum(np.abs(w))/n_samples\n",
    "\n",
    "    ## END TODO\n",
    "\n",
    "    return mse"
   ]
  },
  {
   "cell_type": "markdown",
   "metadata": {
    "id": "UyT4gundogZ5"
   },
   "source": [
    "## Plot Graphs\n",
    "\n",
    "- This function plots the ground truth curve in <font color=green>green</font> and the predicted function in <font color=red>red</font>"
   ]
  },
  {
   "cell_type": "code",
   "execution_count": 6,
   "metadata": {
    "id": "weGoGCzJodzM"
   },
   "outputs": [],
   "source": [
    "def plot_curves(w, b, x, y):\n",
    "  x_gt = np.linspace(-1, 2, 50)\n",
    "  y_gt = 1 - 3 * x_gt - 2 * x_gt ** 2 + 2.5 * x_gt ** 3\n",
    "  # print(x_gt.shape,y_gt.shape)\n",
    "  if len(w) == 1:\n",
    "    y_fit = w * x_gt + b\n",
    "  elif len(w) == 5:\n",
    "    x_fit = x_gt\n",
    "    for pow in range(2, 4):\n",
    "      x_fit = np.vstack([x_fit, np.power(x_gt, pow)])\n",
    "\n",
    "    x_fit = np.vstack([x_fit, np.power(x_gt, 2)])\n",
    "    x_fit = np.vstack([x_fit, np.power(x_gt, 1)])\n",
    "    \n",
    "    y_fit = np.dot(w, x_fit) + b\n",
    "  else:\n",
    "    assert False, 'Pass a valid w'\n",
    "  plt.plot(x_gt, y_gt, color=\"green\", label='1 - 3 * x - 2 * x ** 2 + 2.5 * x ** 3')\n",
    "  plt.plot(x_gt, y_fit, color='red', label=\"Fitted Function y = w.Tx + b\")\n",
    "  if len(x.shape) == 1:\n",
    "    x_plot = np.vstack([x, np.ones(len(x))]).T\n",
    "    # print (x_plot.shape, y.shape)\n",
    "  else:\n",
    "    x_plot = x\n",
    "  plt.scatter(x_plot[:,0],y)\n",
    "  plt.legend()\n",
    "  plt.title(\"Ground Truth Function\")\n",
    "  plt.show()"
   ]
  },
  {
   "cell_type": "code",
   "execution_count": 7,
   "metadata": {
    "id": "-oAg-WHfo_j-"
   },
   "outputs": [],
   "source": [
    "def split_data(X, Y, train_ratio=0.6):\n",
    "    '''\n",
    "    Split data into train and validation sets\n",
    "    The first floor(train_ratio*n_sample) samples form the train set\n",
    "    and the remaining the test set\n",
    "\n",
    "    Args:\n",
    "    X - numpy array of shape (n_samples, n_features)\n",
    "    Y - numpy array of shape (n_samples, 1)\n",
    "    train_ratio - fraction of samples to be used as training data\n",
    "\n",
    "    Returns:\n",
    "    X_train, Y_train, X_val, Y_val\n",
    "    '''\n",
    "    ## TODO\n",
    "    \n",
    "    split_val = int(len(Y)*train_ratio)\n",
    "    seed = np.random.randint(1000)\n",
    "    print(seed)\n",
    "    rng = np.random.default_rng(seed=412)\n",
    "    arr = np.arange(len(Y))\n",
    "    rng.shuffle(arr)\n",
    "    X = X[arr]\n",
    "    Y = Y[arr]\n",
    "    X_train = X[:split_val]\n",
    "    Y_train = Y[:split_val]\n",
    "    X_val = X[split_val:]\n",
    "    Y_val = Y[split_val:]\n",
    "    \n",
    "    ## END TODO\n",
    "\n",
    "    return X_train, Y_train, X_val, Y_val"
   ]
  },
  {
   "cell_type": "markdown",
   "metadata": {
    "id": "jF5le-PSpHyI"
   },
   "source": [
    "# Lasso Regression"
   ]
  },
  {
   "cell_type": "code",
   "execution_count": 8,
   "metadata": {
    "id": "KXHA6LqRpJOL"
   },
   "outputs": [
    {
     "name": "stdout",
     "output_type": "stream",
     "text": [
      "485\n",
      "Validation loss if 0.008704369531574765\n",
      "Training Loss loss if 0.0064230683511346046\n",
      "(5,) 0.898672208983574 (30, 5) (30,)\n"
     ]
    },
    {
     "data": {
      "image/png": "[encoded data removed]",
      "text/plain": [
       "<Figure size 432x288 with 1 Axes>"
      ]
     },
     "metadata": {
      "needs_background": "light"
     },
     "output_type": "display_data"
    },
    {
     "data": {
      "text/plain": [
       "(array([-1.47311849, -0.89190363,  2.37828589, -0.89190363, -1.47311849]),\n",
       " 0.898672208983574)"
      ]
     },
     "execution_count": 8,
     "metadata": {},
     "output_type": "execute_result"
    }
   ],
   "source": [
    "X_train, Y_train, X_val, Y_val = split_data(X_multi, Y_multi, train_ratio=0.6)\n",
    "\n",
    "def ista(X_train, Y_train, X_val, Y_val, epochs=2000, lr=1e-2, lamda = 0.01):\n",
    "    '''\n",
    "    Perform multi variable lasso regression using ISTA\n",
    "\n",
    "    Args:\n",
    "    X_train - numpy array of shape (n_samples_train, 5)\n",
    "    Y_train - numpy array of shape (n_samples_train, 1)\n",
    "    X_val - numpy array of shape (n_samples_val, 5)\n",
    "    Y_val - numpy array of shape (n_samples_val, 1)\n",
    "    epochs - number of gradient descent steps\n",
    "    lr - learnig rate\n",
    "    lamda - regularization_weight\n",
    "    '''\n",
    "\n",
    "    w = np.zeros(X_train.shape[1]) #np.random.randn(X_train.shape[1])\n",
    "    b = 0\n",
    "    ## TODO\n",
    "    \n",
    "    def soft_threshold(alpha, x):\n",
    "        if x > alpha:\n",
    "            return x - alpha\n",
    "        elif x < -alpha:\n",
    "            return x + alpha\n",
    "        else:\n",
    "            return 0\n",
    "    \n",
    "    n = len(Y_train)\n",
    "    m = X_train.shape[1]\n",
    "    for i in range(epochs):\n",
    "        \n",
    "        y_pred = np.dot(X_train, w) + b        \n",
    "        dw_ols = 2*lr*(np.dot(X_train.T, (y_pred - Y_train)))/n  \n",
    "        w_soft = np.zeros(w.shape)\n",
    "        for j in range(m):\n",
    "            w_soft[j] = soft_threshold(lr*lamda, w[j])\n",
    "            \n",
    "        w = w_soft - dw_ols\n",
    "        \n",
    "        \n",
    "        db = 2*lr*np.sum(y_pred - Y_train)/n        \n",
    "        b = b - db\n",
    "\n",
    "    ## END TODO\n",
    "    \n",
    "    mse_train = mse_regularized(X_train, Y_train, w, b, lamda)\n",
    "    mse_val = mse_regularized(X_val, Y_val, w, b, lamda)\n",
    "    print(f'Validation loss if {mse_val}')\n",
    "    print(f'Training Loss loss if {mse_train}')\n",
    "    print(w.shape,b,X_train.shape,Y_train.shape)\n",
    "    plot_curves(list(w), b, X_train, Y_train)\n",
    "    return w, b\n",
    "\n",
    "ista(X_train, Y_train, X_val, Y_val)"
   ]
  },
  {
   "cell_type": "markdown",
   "metadata": {
    "id": "tquhPbDFVo5J"
   },
   "source": [
    "# Ridge Regression"
   ]
  },
  {
   "cell_type": "code",
   "execution_count": 9,
   "metadata": {
    "id": "mBD7ZLePVhFz"
   },
   "outputs": [
    {
     "name": "stdout",
     "output_type": "stream",
     "text": [
      "Validation loss if 0.0016323767836597606\n",
      "Training Loss loss if 0.0012848079727177393\n"
     ]
    },
    {
     "data": {
      "image/png": "[encoded data removed]",
      "text/plain": [
       "<Figure size 432x288 with 1 Axes>"
      ]
     },
     "metadata": {
      "needs_background": "light"
     },
     "output_type": "display_data"
    },
    {
     "data": {
      "text/plain": [
       "(array([-1.47946696, -0.94331784,  2.43169769, -0.94331784, -1.47946696]),\n",
       " 0.9453567900098565)"
      ]
     },
     "execution_count": 9,
     "metadata": {},
     "output_type": "execute_result"
    }
   ],
   "source": [
    "def multivar_reg_closedform(X_train, Y_train, X_val, Y_val, lamda=0.1):\n",
    "\n",
    "    '''\n",
    "    Perform L2 regularized multi variable least squares regression using \n",
    "    closed form update rules\n",
    "\n",
    "    Args:\n",
    "    X_train - numpy array of shape (n_samples_train, 5)\n",
    "    Y_train - numpy array of shape (n_samples_train, 1)\n",
    "    X_val - numpy array of shape (n_samples_val, 5)\n",
    "    Y_val - numpy array of shape (n_samples_val, 1)\n",
    "    lambda - regularization weight\n",
    "    '''\n",
    "\n",
    "    w = np.zeros(X_train.shape[1])\n",
    "    b = 0\n",
    "\n",
    "    ## TODO     #use closed-form solution from previous assignment\n",
    "\n",
    "    n = len(Y_train)\n",
    "    w = np.array(w)\n",
    "    X = np.hstack((X_train, np.ones((X_train.shape[0], 1), dtype=X_train.dtype)))\n",
    "    w_b = np.dot(np.linalg.inv(np.dot(X.T, X) + lamda*np.identity(X.shape[1])), np.dot(X.T, Y_train)) \n",
    "    \n",
    "    w = w_b[:-1]\n",
    "    b = w_b[-1]\n",
    "\n",
    "    ## END TODO\n",
    "\n",
    "    mse_train = mse_multi_var(X_train, Y_train, w, b)\n",
    "    mse_val = mse_multi_var(X_val, Y_val, w, b)\n",
    "    print(f'Validation loss if {mse_val}')\n",
    "    print(f'Training Loss loss if {mse_train}')\n",
    "    plot_curves(list(w), b, X_train, Y_train)\n",
    "    \n",
    "    return w, b\n",
    "\n",
    "multivar_reg_closedform(X_train, Y_train, X_val, Y_val)"
   ]
  },
  {
   "cell_type": "markdown",
   "metadata": {
    "id": "HafXtfE0Zx6D"
   },
   "source": [
    "# Bias-Variance Tradeoff"
   ]
  },
  {
   "cell_type": "code",
   "execution_count": 10,
   "metadata": {
    "id": "aBatCgQgeZi8"
   },
   "outputs": [],
   "source": [
    "#\n",
    "def ridge(X_train, Y_train, X_test,epochs=500, lr=2e-2, lamda = 1):\n",
    "\n",
    "    w = 0.6\n",
    "    b = 2\n",
    "    n = float(len(X_train)) # Number of elements in X\n",
    "\n",
    "    # Performing Gradient Descent \n",
    "\n",
    "    ## TODO\n",
    "    \n",
    "    for i in range(epochs):\n",
    "        \n",
    "        y_pred = w*X_train + b        \n",
    "        dw = 2*(np.dot(X_train.T, (y_pred - Y_train)))/n + 2*lamda*w\n",
    "        db = 2*np.sum(y_pred - Y_train)/n\n",
    "        w -= lr*dw\n",
    "        b -= lr*db\n",
    "\n",
    "    ### END TODO\n",
    "\n",
    "    Y_pred = w*X_test+b\n",
    "    return Y_pred\n",
    "\n",
    "def lasso(X_train, Y_train, X_test,epochs=500, lr=2e-2, lamda = 1):\n",
    "    w = 0.6\n",
    "    b = 2\n",
    "    n = float(len(X_train)) # Number of elements in X\n",
    "\n",
    "    # Performing Gradient Descent \n",
    "    ##TODO\n",
    "    \n",
    "    def soft_threshold(alpha, x):\n",
    "        if x > alpha:\n",
    "            return x - alpha\n",
    "        elif x < -alpha:\n",
    "            return x + alpha\n",
    "        else:\n",
    "            return 0\n",
    "    \n",
    "    for i in range(epochs):\n",
    "        \n",
    "        y_pred = w*X_train + b        \n",
    "        dw_ols = 2*lr*(np.dot(X_train.T, (y_pred - Y_train)))/n  \n",
    "        w_soft = soft_threshold(lr*lamda, w)\n",
    "            \n",
    "        w = w_soft - dw_ols\n",
    "        \n",
    "        \n",
    "        db = 2*lr*np.sum(y_pred - Y_train)/n        \n",
    "        b = b - db\n",
    "\n",
    "    ##END TODO\n",
    "\n",
    "    Y_pred = w*X_test+b\n",
    "    return Y_pred\n",
    "\n",
    "def ols(X_train, Y_train, X_test,epochs=500, lr=2e-2):\n",
    "\n",
    "    w = 0.6\n",
    "    b = 2\n",
    "    n = float(len(X_train)) # Number of elements in X\n",
    "\n",
    "    # Performing Gradient Descent \n",
    "    ## TODO\n",
    "    \n",
    "    for i in range(epochs):\n",
    "        \n",
    "        y_pred = w*X_train + b\n",
    "        dw = 2*(np.dot((y_pred - Y_train).T, X_train))/n\n",
    "        db = 2*np.sum(y_pred - Y_train)/n\n",
    "        w -= lr*dw\n",
    "        b -= lr*db\n",
    "\n",
    "    ### END TODO\n",
    "\n",
    "    Y_pred = w*X_test+b\n",
    "    return Y_pred"
   ]
  },
  {
   "cell_type": "code",
   "execution_count": 11,
   "metadata": {
    "id": "78u8LgPFZxZ0"
   },
   "outputs": [],
   "source": [
    "# We fit multiple lines onto our linear model defined by y = c + mx + error.\n",
    "num_lines = 10\n",
    "#size of Dataset, len(Dataset) for 1 line\n",
    "n = 500\n",
    "#weights (slope/intercept)\n",
    "c = 3\n",
    "m = 5"
   ]
  },
  {
   "cell_type": "code",
   "execution_count": 12,
   "metadata": {
    "id": "mjwhG142Z6pL"
   },
   "outputs": [],
   "source": [
    "def gen_data():\n",
    "    '''\n",
    "    We sample n, X from uniform distribution and error from zero mean normal distribtion, we find Y using mx+c+e\n",
    "    We do the above for num_lines number of time, to fit different lines for each models(lasso, ols, ridge), doing so will\n",
    "    be helpfull in calculating Expected value of learned esitmator of all n*num_lines dataset\n",
    "\n",
    "    DO NOT CHANGE this function.\n",
    "    '''\n",
    "\n",
    "    w0 = c\n",
    "    w1 = m\n",
    "    data = np.zeros(shape=(num_lines,n,2))\n",
    "    for i in range(num_lines):\n",
    "        x = np.random.uniform(-2, 2, size=(n, 1))\n",
    "        e = np.random.normal(0, 8, size=(n, 1))\n",
    "        y = w0 + w1 * x + e\n",
    "        x_y = np.concatenate((x, y), axis=1)\n",
    "        data[i,:,:] = x_y\n",
    "    return np.array(data)"
   ]
  },
  {
   "cell_type": "code",
   "execution_count": 13,
   "metadata": {
    "id": "KXpyZZMLZ-wk"
   },
   "outputs": [],
   "source": [
    "def gen_bais_variance(Y_preds, Y_true):\n",
    "    ## TODO\n",
    "    \n",
    "    mu_pred = np.mean(Y_preds, axis = 0)\n",
    "    variance = np.mean(np.square(Y_preds - mu_pred), axis=0)\n",
    "    bias = mu_pred - np.repeat(Y_true, 3)\n",
    "\n",
    "    ## END TODO\n",
    "    return bias, variance"
   ]
  },
  {
   "cell_type": "code",
   "execution_count": 14,
   "metadata": {
    "id": "hMzoObAiaBTX"
   },
   "outputs": [],
   "source": [
    "def make_prediction(data, X_test, lambda_=0.5):\n",
    "\n",
    "  y_hat = np.zeros(shape=(num_lines, 3))#store prediction of all model\n",
    "\n",
    "  for i in range(num_lines):\n",
    "      X = data[i, :, 0].reshape(n ,1)\n",
    "      y = data[i, :, 1].reshape(n, 1)\n",
    "\n",
    "      y_hat[i, 0] = ols(X, y, X_test)\n",
    "\n",
    "      y_hat[i, 1] = ridge(X, y, X_test, lamda = lambda_)\n",
    "\n",
    "      y_hat[i, 2] = lasso(X, y, X_test, lamda = lambda_)\n",
    "\n",
    "  return y_hat"
   ]
  },
  {
   "cell_type": "code",
   "execution_count": 15,
   "metadata": {
    "id": "DinGJiTgaENE"
   },
   "outputs": [],
   "source": [
    "def plot_figure(l,b,v):\n",
    "\n",
    "  plt.plot(l, b[:, 0], label=\"OLS\")\n",
    "  plt.plot(l, b[:, 1], label=\"Ridge\")\n",
    "  plt.plot(l, b[:, 2], label=\"Lasso\")\n",
    "  plt.xlabel(\"Regularization coefficient\")\n",
    "  plt.ylabel(\"Bias\")\n",
    "  plt.title(\"Bias vs Lambda\")\n",
    "  plt.legend(loc=\"upper left\")\n",
    "  plt.show()\n",
    "\n",
    "  plt.plot(l, v[:, 0], label=\"OLS\")\n",
    "  plt.plot(l, v[:, 1], label=\"Ridge\")\n",
    "  plt.plot(l, v[:, 2], label=\"Lasso\")\n",
    "  plt.xlabel(\"Regularization coefficient\")\n",
    "  plt.ylabel(\"Variance\")\n",
    "  plt.title(\"Variance vs Lambda\")\n",
    "  plt.legend(loc=\"lower left\")\n",
    "  plt.show()\n",
    "\n"
   ]
  },
  {
   "cell_type": "code",
   "execution_count": 16,
   "metadata": {
    "id": "nJD2hCXxaIAA"
   },
   "outputs": [
    {
     "data": {
      "image/png": "[encoded data removed]",
      "text/plain": [
       "<Figure size 432x288 with 1 Axes>"
      ]
     },
     "metadata": {
      "needs_background": "light"
     },
     "output_type": "display_data"
    },
    {
     "data": {
      "image/png": "[encoded data removed]",
      "text/plain": [
       "<Figure size 432x288 with 1 Axes>"
      ]
     },
     "metadata": {
      "needs_background": "light"
     },
     "output_type": "display_data"
    }
   ],
   "source": [
    "def driver():\n",
    "  all_lambda = np.linspace(0.0001, 1, 100)\n",
    "  all_bias = np.zeros(shape=(len(all_lambda), 3))\n",
    "  all_variance = np.zeros(shape=(len(all_lambda), 3))\n",
    "  dataset = gen_data()\n",
    "  X_test = np.array([4]).reshape((1,1))\n",
    "  for i, l in enumerate(all_lambda):\n",
    "      Y_hat = make_prediction(dataset, X_test, lambda_=l)\n",
    "      ##TODO #calculate true mean Y_true\n",
    "        \n",
    "      Y_true = m*X_test + c\n",
    "\n",
    "      ##END TODO\n",
    "      all_bias[i, :], all_variance[i, :] = gen_bais_variance(Y_hat, Y_true) \n",
    "  plot_figure(all_lambda, all_bias, all_variance)\n",
    "\n",
    "driver()"
   ]
  },
  {
   "cell_type": "markdown",
   "metadata": {
    "id": "bo75okrxU6D0"
   },
   "source": [
    "# Perceptron"
   ]
  },
  {
   "cell_type": "code",
   "execution_count": 17,
   "metadata": {
    "id": "QaL7Zo3nU8Vm"
   },
   "outputs": [
    {
     "name": "stdout",
     "output_type": "stream",
     "text": [
      "765\n",
      "              precision    recall  f1-score   support\n",
      "\n",
      "     class 0       1.00      1.00      1.00        14\n",
      "     class 1       1.00      1.00      1.00        14\n",
      "     class 2       1.00      1.00      1.00        12\n",
      "\n",
      "    accuracy                           1.00        40\n",
      "   macro avg       1.00      1.00      1.00        40\n",
      "weighted avg       1.00      1.00      1.00        40\n",
      "\n"
     ]
    },
    {
     "data": {
      "text/plain": [
       "array([[ 7.54285777,  1.93631143],\n",
       "       [-7.98610968,  5.93024259],\n",
       "       [ 0.44325191, -7.86655402]])"
      ]
     },
     "execution_count": 17,
     "metadata": {},
     "output_type": "execute_result"
    }
   ],
   "source": [
    "X_train_multiclass, Y_train_multiclass, X_val_multiclass, Y_val_multiclass = split_data(X_multi_class, Y_multi_class, train_ratio=0.6)\n",
    "\n",
    "def perceptron_algo(X_train_multiclass, Y_train_multiclass, X_val_multiclass, Y_val_multiclass,n_class=3, epochs=30):\n",
    "  W=np.zeros((n_class, len(X_train_multiclass[0]) ))\n",
    "  ## TODO\n",
    "  for it in range(epochs):\n",
    "    for i in range(len(Y_train_multiclass)):\n",
    "      y_pred=np.argmax([np.dot(W[0],X_train_multiclass[i]),np.dot(W[1],X_train_multiclass[i]),\n",
    "                      np.dot(W[2],X_train_multiclass[i])])\n",
    "      if y_pred != Y_train_multiclass[i]:\n",
    "        W[y_pred] -= X_train_multiclass[i]\n",
    "        W[Y_train_multiclass[i]] += X_train_multiclass[i]\n",
    "\n",
    "  ##END TODO\n",
    "\n",
    "  Y_pred=list()\n",
    "  for i in range(len(Y_val_multiclass)):\n",
    "      y_pred=np.argmax([np.dot(W[0],X_val_multiclass[i]),np.dot(W[1],X_val_multiclass[i]),np.dot(W[2],X_val_multiclass[i])])\n",
    "      Y_pred.append(y_pred)\n",
    "\n",
    "  from sklearn.metrics import classification_report\n",
    "  target_names = ['class 0', 'class 1', 'class 2']\n",
    "  print(classification_report(Y_val_multiclass, Y_pred, target_names=target_names))\n",
    "  return W\n",
    "\n",
    "perceptron_algo(X_train_multiclass, Y_train_multiclass, X_val_multiclass, Y_val_multiclass)\n"
   ]
  },
  {
   "cell_type": "code",
   "execution_count": null,
   "metadata": {},
   "outputs": [],
   "source": []
  }
 ],
 "metadata": {
  "colab": {
   "collapsed_sections": [],
   "name": "Assignment_2.ipynb",
   "provenance": []
  },
  "kernelspec": {
   "display_name": "Python 3",
   "language": "python",
   "name": "python3"
  },
  "language_info": {
   "codemirror_mode": {
    "name": "ipython",
    "version": 3
   },
   "file_extension": ".py",
   "mimetype": "text/x-python",
   "name": "python",
   "nbconvert_exporter": "python",
   "pygments_lexer": "ipython3",
   "version": "3.7.8"
  }
 },
 "nbformat": 4,
 "nbformat_minor": 1
}
